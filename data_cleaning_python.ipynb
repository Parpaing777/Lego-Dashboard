{
 "cells": [
  {
   "cell_type": "markdown",
   "id": "ec14f39f",
   "metadata": {},
   "source": [
    "# Data Cleaning of Lego Sets and Themes dataset"
   ]
  },
  {
   "cell_type": "markdown",
   "id": "67fe3217",
   "metadata": {},
   "source": [
    "## Import dataset\n"
   ]
  },
  {
   "cell_type": "code",
   "execution_count": 62,
   "id": "7b5f5ba2",
   "metadata": {},
   "outputs": [],
   "source": [
    "# Import necessary libraries\n",
    "import pandas as pd\n",
    "import numpy as np\n",
    "\n",
    "# Read dataset from the CSV file\n",
    "df = pd.read_csv('lego_sets_and_themes.csv')"
   ]
  },
  {
   "cell_type": "markdown",
   "id": "68746a83",
   "metadata": {},
   "source": [
    "## Data Understanding"
   ]
  },
  {
   "cell_type": "code",
   "execution_count": 63,
   "id": "29c6f243",
   "metadata": {},
   "outputs": [
    {
     "data": {
      "text/html": [
       "<div>\n",
       "<style scoped>\n",
       "    .dataframe tbody tr th:only-of-type {\n",
       "        vertical-align: middle;\n",
       "    }\n",
       "\n",
       "    .dataframe tbody tr th {\n",
       "        vertical-align: top;\n",
       "    }\n",
       "\n",
       "    .dataframe thead th {\n",
       "        text-align: right;\n",
       "    }\n",
       "</style>\n",
       "<table border=\"1\" class=\"dataframe\">\n",
       "  <thead>\n",
       "    <tr style=\"text-align: right;\">\n",
       "      <th></th>\n",
       "      <th>set_number</th>\n",
       "      <th>set_name</th>\n",
       "      <th>year_released</th>\n",
       "      <th>number_of_parts</th>\n",
       "      <th>image_url</th>\n",
       "      <th>theme_name</th>\n",
       "    </tr>\n",
       "  </thead>\n",
       "  <tbody>\n",
       "    <tr>\n",
       "      <th>0</th>\n",
       "      <td>001-1</td>\n",
       "      <td>Gears</td>\n",
       "      <td>1965.0</td>\n",
       "      <td>43.0</td>\n",
       "      <td>https://cdn.rebrickable.com/media/sets/001-1.jpg</td>\n",
       "      <td>Technic</td>\n",
       "    </tr>\n",
       "    <tr>\n",
       "      <th>1</th>\n",
       "      <td>002-1</td>\n",
       "      <td>4.5V Samsonite Gears Motor Set</td>\n",
       "      <td>1965.0</td>\n",
       "      <td>3.0</td>\n",
       "      <td>https://cdn.rebrickable.com/media/sets/002-1.jpg</td>\n",
       "      <td>Technic</td>\n",
       "    </tr>\n",
       "    <tr>\n",
       "      <th>2</th>\n",
       "      <td>1030-1</td>\n",
       "      <td>TECHNIC I: Simple Machines Set</td>\n",
       "      <td>1985.0</td>\n",
       "      <td>210.0</td>\n",
       "      <td>https://cdn.rebrickable.com/media/sets/1030-1.jpg</td>\n",
       "      <td>Technic</td>\n",
       "    </tr>\n",
       "    <tr>\n",
       "      <th>3</th>\n",
       "      <td>1038-1</td>\n",
       "      <td>ERBIE the Robo-Car</td>\n",
       "      <td>1985.0</td>\n",
       "      <td>120.0</td>\n",
       "      <td>https://cdn.rebrickable.com/media/sets/1038-1.jpg</td>\n",
       "      <td>Technic</td>\n",
       "    </tr>\n",
       "    <tr>\n",
       "      <th>4</th>\n",
       "      <td>1039-1</td>\n",
       "      <td>Manual Control Set 1</td>\n",
       "      <td>1986.0</td>\n",
       "      <td>39.0</td>\n",
       "      <td>https://cdn.rebrickable.com/media/sets/1039-1.jpg</td>\n",
       "      <td>Technic</td>\n",
       "    </tr>\n",
       "  </tbody>\n",
       "</table>\n",
       "</div>"
      ],
      "text/plain": [
       "  set_number                        set_name  year_released  number_of_parts  \\\n",
       "0      001-1                           Gears         1965.0             43.0   \n",
       "1      002-1  4.5V Samsonite Gears Motor Set         1965.0              3.0   \n",
       "2     1030-1  TECHNIC I: Simple Machines Set         1985.0            210.0   \n",
       "3     1038-1              ERBIE the Robo-Car         1985.0            120.0   \n",
       "4     1039-1            Manual Control Set 1         1986.0             39.0   \n",
       "\n",
       "                                           image_url theme_name  \n",
       "0   https://cdn.rebrickable.com/media/sets/001-1.jpg    Technic  \n",
       "1   https://cdn.rebrickable.com/media/sets/002-1.jpg    Technic  \n",
       "2  https://cdn.rebrickable.com/media/sets/1030-1.jpg    Technic  \n",
       "3  https://cdn.rebrickable.com/media/sets/1038-1.jpg    Technic  \n",
       "4  https://cdn.rebrickable.com/media/sets/1039-1.jpg    Technic  "
      ]
     },
     "metadata": {},
     "output_type": "display_data"
    },
    {
     "name": "stdout",
     "output_type": "stream",
     "text": [
      "Index(['set_number', 'set_name', 'year_released', 'number_of_parts',\n",
      "       'image_url', 'theme_name'],\n",
      "      dtype='object')\n"
     ]
    }
   ],
   "source": [
    "display(df.head())\n",
    "print(df.columns)"
   ]
  },
  {
   "cell_type": "code",
   "execution_count": 64,
   "id": "c8ae9b70",
   "metadata": {},
   "outputs": [
    {
     "name": "stdout",
     "output_type": "stream",
     "text": [
      "<class 'pandas.core.frame.DataFrame'>\n",
      "RangeIndex: 21503 entries, 0 to 21502\n",
      "Data columns (total 6 columns):\n",
      " #   Column           Non-Null Count  Dtype  \n",
      "---  ------           --------------  -----  \n",
      " 0   set_number       21496 non-null  object \n",
      " 1   set_name         21496 non-null  object \n",
      " 2   year_released    21496 non-null  float64\n",
      " 3   number_of_parts  21496 non-null  float64\n",
      " 4   image_url        21496 non-null  object \n",
      " 5   theme_name       21503 non-null  object \n",
      "dtypes: float64(2), object(4)\n",
      "memory usage: 1008.1+ KB\n"
     ]
    }
   ],
   "source": [
    "df.info()"
   ]
  },
  {
   "cell_type": "code",
   "execution_count": 65,
   "id": "25d26ae3",
   "metadata": {},
   "outputs": [
    {
     "data": {
      "text/html": [
       "<div>\n",
       "<style scoped>\n",
       "    .dataframe tbody tr th:only-of-type {\n",
       "        vertical-align: middle;\n",
       "    }\n",
       "\n",
       "    .dataframe tbody tr th {\n",
       "        vertical-align: top;\n",
       "    }\n",
       "\n",
       "    .dataframe thead th {\n",
       "        text-align: right;\n",
       "    }\n",
       "</style>\n",
       "<table border=\"1\" class=\"dataframe\">\n",
       "  <thead>\n",
       "    <tr style=\"text-align: right;\">\n",
       "      <th></th>\n",
       "      <th>year_released</th>\n",
       "      <th>number_of_parts</th>\n",
       "    </tr>\n",
       "  </thead>\n",
       "  <tbody>\n",
       "    <tr>\n",
       "      <th>count</th>\n",
       "      <td>21496.000000</td>\n",
       "      <td>21496.000000</td>\n",
       "    </tr>\n",
       "    <tr>\n",
       "      <th>mean</th>\n",
       "      <td>2007.579782</td>\n",
       "      <td>162.461760</td>\n",
       "    </tr>\n",
       "    <tr>\n",
       "      <th>std</th>\n",
       "      <td>13.980685</td>\n",
       "      <td>417.187521</td>\n",
       "    </tr>\n",
       "    <tr>\n",
       "      <th>min</th>\n",
       "      <td>1949.000000</td>\n",
       "      <td>0.000000</td>\n",
       "    </tr>\n",
       "    <tr>\n",
       "      <th>25%</th>\n",
       "      <td>2001.000000</td>\n",
       "      <td>4.000000</td>\n",
       "    </tr>\n",
       "    <tr>\n",
       "      <th>50%</th>\n",
       "      <td>2012.000000</td>\n",
       "      <td>32.000000</td>\n",
       "    </tr>\n",
       "    <tr>\n",
       "      <th>75%</th>\n",
       "      <td>2018.000000</td>\n",
       "      <td>142.000000</td>\n",
       "    </tr>\n",
       "    <tr>\n",
       "      <th>max</th>\n",
       "      <td>2023.000000</td>\n",
       "      <td>11695.000000</td>\n",
       "    </tr>\n",
       "  </tbody>\n",
       "</table>\n",
       "</div>"
      ],
      "text/plain": [
       "       year_released  number_of_parts\n",
       "count   21496.000000     21496.000000\n",
       "mean     2007.579782       162.461760\n",
       "std        13.980685       417.187521\n",
       "min      1949.000000         0.000000\n",
       "25%      2001.000000         4.000000\n",
       "50%      2012.000000        32.000000\n",
       "75%      2018.000000       142.000000\n",
       "max      2023.000000     11695.000000"
      ]
     },
     "execution_count": 65,
     "metadata": {},
     "output_type": "execute_result"
    }
   ],
   "source": [
    "df.describe()"
   ]
  },
  {
   "cell_type": "markdown",
   "id": "4eafc4f3",
   "metadata": {},
   "source": [
    "## Data Cleaning"
   ]
  },
  {
   "cell_type": "code",
   "execution_count": 66,
   "id": "913019df",
   "metadata": {},
   "outputs": [],
   "source": [
    "# Missing values\n",
    "df.dropna(subset=['set_number', 'set_name', 'year_released', 'number_of_parts',\n",
    "       'image_url'], inplace=True)"
   ]
  },
  {
   "cell_type": "code",
   "execution_count": 67,
   "id": "b93b570d",
   "metadata": {},
   "outputs": [],
   "source": [
    "# Check duplicates\n",
    "dups = df.duplicated(subset=['set_number'])\n",
    "# Remove duplicates\n",
    "df = df[~dups]\n"
   ]
  },
  {
   "cell_type": "code",
   "execution_count": 68,
   "id": "7705e4cd",
   "metadata": {},
   "outputs": [],
   "source": [
    "# Convert year released to integer\n",
    "df['year_released'] = df['year_released'].astype(int)"
   ]
  },
  {
   "cell_type": "code",
   "execution_count": 71,
   "id": "8b4d126c",
   "metadata": {},
   "outputs": [],
   "source": [
    "# Drop the image_url column as it is not needed for analysis\n",
    "df.drop(columns=['image_url'], inplace=True)"
   ]
  },
  {
   "cell_type": "code",
   "execution_count": 72,
   "id": "e8dbb664",
   "metadata": {},
   "outputs": [
    {
     "name": "stdout",
     "output_type": "stream",
     "text": [
      "<class 'pandas.core.frame.DataFrame'>\n",
      "Index: 21496 entries, 0 to 21502\n",
      "Data columns (total 5 columns):\n",
      " #   Column           Non-Null Count  Dtype  \n",
      "---  ------           --------------  -----  \n",
      " 0   set_number       21496 non-null  object \n",
      " 1   set_name         21496 non-null  object \n",
      " 2   year_released    21496 non-null  int64  \n",
      " 3   number_of_parts  21496 non-null  float64\n",
      " 4   theme_name       21496 non-null  object \n",
      "dtypes: float64(1), int64(1), object(3)\n",
      "memory usage: 1007.6+ KB\n"
     ]
    }
   ],
   "source": [
    "df.info()"
   ]
  },
  {
   "cell_type": "code",
   "execution_count": 73,
   "id": "1ce725d8",
   "metadata": {},
   "outputs": [
    {
     "data": {
      "text/html": [
       "<div>\n",
       "<style scoped>\n",
       "    .dataframe tbody tr th:only-of-type {\n",
       "        vertical-align: middle;\n",
       "    }\n",
       "\n",
       "    .dataframe tbody tr th {\n",
       "        vertical-align: top;\n",
       "    }\n",
       "\n",
       "    .dataframe thead th {\n",
       "        text-align: right;\n",
       "    }\n",
       "</style>\n",
       "<table border=\"1\" class=\"dataframe\">\n",
       "  <thead>\n",
       "    <tr style=\"text-align: right;\">\n",
       "      <th></th>\n",
       "      <th>set_number</th>\n",
       "      <th>set_name</th>\n",
       "      <th>year_released</th>\n",
       "      <th>number_of_parts</th>\n",
       "      <th>theme_name</th>\n",
       "    </tr>\n",
       "  </thead>\n",
       "  <tbody>\n",
       "    <tr>\n",
       "      <th>0</th>\n",
       "      <td>001-1</td>\n",
       "      <td>Gears</td>\n",
       "      <td>1965</td>\n",
       "      <td>43.0</td>\n",
       "      <td>Technic</td>\n",
       "    </tr>\n",
       "    <tr>\n",
       "      <th>1</th>\n",
       "      <td>002-1</td>\n",
       "      <td>4.5V Samsonite Gears Motor Set</td>\n",
       "      <td>1965</td>\n",
       "      <td>3.0</td>\n",
       "      <td>Technic</td>\n",
       "    </tr>\n",
       "    <tr>\n",
       "      <th>2</th>\n",
       "      <td>1030-1</td>\n",
       "      <td>TECHNIC I: Simple Machines Set</td>\n",
       "      <td>1985</td>\n",
       "      <td>210.0</td>\n",
       "      <td>Technic</td>\n",
       "    </tr>\n",
       "    <tr>\n",
       "      <th>3</th>\n",
       "      <td>1038-1</td>\n",
       "      <td>ERBIE the Robo-Car</td>\n",
       "      <td>1985</td>\n",
       "      <td>120.0</td>\n",
       "      <td>Technic</td>\n",
       "    </tr>\n",
       "    <tr>\n",
       "      <th>4</th>\n",
       "      <td>1039-1</td>\n",
       "      <td>Manual Control Set 1</td>\n",
       "      <td>1986</td>\n",
       "      <td>39.0</td>\n",
       "      <td>Technic</td>\n",
       "    </tr>\n",
       "  </tbody>\n",
       "</table>\n",
       "</div>"
      ],
      "text/plain": [
       "  set_number                        set_name  year_released  number_of_parts  \\\n",
       "0      001-1                           Gears           1965             43.0   \n",
       "1      002-1  4.5V Samsonite Gears Motor Set           1965              3.0   \n",
       "2     1030-1  TECHNIC I: Simple Machines Set           1985            210.0   \n",
       "3     1038-1              ERBIE the Robo-Car           1985            120.0   \n",
       "4     1039-1            Manual Control Set 1           1986             39.0   \n",
       "\n",
       "  theme_name  \n",
       "0    Technic  \n",
       "1    Technic  \n",
       "2    Technic  \n",
       "3    Technic  \n",
       "4    Technic  "
      ]
     },
     "execution_count": 73,
     "metadata": {},
     "output_type": "execute_result"
    }
   ],
   "source": [
    "df.head()"
   ]
  },
  {
   "cell_type": "code",
   "execution_count": 74,
   "id": "c2e7d797",
   "metadata": {},
   "outputs": [],
   "source": [
    "# Export the cleaned dataframe to a new CSV file\n",
    "df.to_csv('cleaned_lego_sets_and_themes.csv', index=False)"
   ]
  },
  {
   "cell_type": "markdown",
   "id": "e75a6d9b",
   "metadata": {},
   "source": [
    "# Second Dataset \n"
   ]
  },
  {
   "cell_type": "code",
   "execution_count": 60,
   "id": "8351f793",
   "metadata": {},
   "outputs": [
    {
     "name": "stdout",
     "output_type": "stream",
     "text": [
      "<class 'pandas.core.frame.DataFrame'>\n",
      "RangeIndex: 14936 entries, 0 to 14935\n",
      "Data columns (total 17 columns):\n",
      " #   Column            Non-Null Count  Dtype  \n",
      "---  ------            --------------  -----  \n",
      " 0   Set_ID            14936 non-null  object \n",
      " 1   Name              14936 non-null  object \n",
      " 2   Year              14936 non-null  int64  \n",
      " 3   Theme             14936 non-null  object \n",
      " 4   Theme_Group       14915 non-null  object \n",
      " 5   Subtheme          11495 non-null  object \n",
      " 6   Category          14936 non-null  object \n",
      " 7   Packaging         14936 non-null  object \n",
      " 8   Num_Instructions  14936 non-null  int64  \n",
      " 9   Availability      14936 non-null  object \n",
      " 10  Pieces            13133 non-null  float64\n",
      " 11  Minifigures       7686 non-null   float64\n",
      " 12  Owned             14771 non-null  float64\n",
      " 13  Rating            14936 non-null  float64\n",
      " 14  USD_MSRP          5837 non-null   float64\n",
      " 15  Total_Quantity    12276 non-null  float64\n",
      " 16  Current_Price     5442 non-null   float64\n",
      "dtypes: float64(7), int64(2), object(8)\n",
      "memory usage: 1.9+ MB\n"
     ]
    }
   ],
   "source": [
    "df2 = pd.read_csv('sets.csv')\n",
    "# print(df2.head())\n",
    "df2.info()"
   ]
  },
  {
   "cell_type": "code",
   "execution_count": 75,
   "id": "d8cc6f66",
   "metadata": {},
   "outputs": [
    {
     "data": {
      "text/html": [
       "<div>\n",
       "<style scoped>\n",
       "    .dataframe tbody tr th:only-of-type {\n",
       "        vertical-align: middle;\n",
       "    }\n",
       "\n",
       "    .dataframe tbody tr th {\n",
       "        vertical-align: top;\n",
       "    }\n",
       "\n",
       "    .dataframe thead th {\n",
       "        text-align: right;\n",
       "    }\n",
       "</style>\n",
       "<table border=\"1\" class=\"dataframe\">\n",
       "  <thead>\n",
       "    <tr style=\"text-align: right;\">\n",
       "      <th></th>\n",
       "      <th>Year</th>\n",
       "      <th>Num_Instructions</th>\n",
       "      <th>Pieces</th>\n",
       "      <th>Minifigures</th>\n",
       "      <th>Owned</th>\n",
       "      <th>Rating</th>\n",
       "      <th>USD_MSRP</th>\n",
       "      <th>Total_Quantity</th>\n",
       "      <th>Current_Price</th>\n",
       "    </tr>\n",
       "  </thead>\n",
       "  <tbody>\n",
       "    <tr>\n",
       "      <th>count</th>\n",
       "      <td>14936.000000</td>\n",
       "      <td>14936.000000</td>\n",
       "      <td>13133.000000</td>\n",
       "      <td>7686.000000</td>\n",
       "      <td>14771.000000</td>\n",
       "      <td>14936.000000</td>\n",
       "      <td>5837.000000</td>\n",
       "      <td>12276.000000</td>\n",
       "      <td>5442.000000</td>\n",
       "    </tr>\n",
       "    <tr>\n",
       "      <th>mean</th>\n",
       "      <td>2006.750736</td>\n",
       "      <td>1.196036</td>\n",
       "      <td>237.935734</td>\n",
       "      <td>2.709862</td>\n",
       "      <td>2045.236951</td>\n",
       "      <td>1.826627</td>\n",
       "      <td>39.967050</td>\n",
       "      <td>4.708618</td>\n",
       "      <td>90.164663</td>\n",
       "    </tr>\n",
       "    <tr>\n",
       "      <th>std</th>\n",
       "      <td>11.524612</td>\n",
       "      <td>2.087763</td>\n",
       "      <td>473.090631</td>\n",
       "      <td>2.955427</td>\n",
       "      <td>2972.330218</td>\n",
       "      <td>1.950909</td>\n",
       "      <td>55.006213</td>\n",
       "      <td>20.995961</td>\n",
       "      <td>193.452605</td>\n",
       "    </tr>\n",
       "    <tr>\n",
       "      <th>min</th>\n",
       "      <td>1975.000000</td>\n",
       "      <td>0.000000</td>\n",
       "      <td>0.000000</td>\n",
       "      <td>1.000000</td>\n",
       "      <td>1.000000</td>\n",
       "      <td>0.000000</td>\n",
       "      <td>1.490000</td>\n",
       "      <td>0.000000</td>\n",
       "      <td>0.050000</td>\n",
       "    </tr>\n",
       "    <tr>\n",
       "      <th>25%</th>\n",
       "      <td>2000.000000</td>\n",
       "      <td>0.000000</td>\n",
       "      <td>25.000000</td>\n",
       "      <td>1.000000</td>\n",
       "      <td>90.000000</td>\n",
       "      <td>0.000000</td>\n",
       "      <td>9.990000</td>\n",
       "      <td>0.000000</td>\n",
       "      <td>15.000000</td>\n",
       "    </tr>\n",
       "    <tr>\n",
       "      <th>50%</th>\n",
       "      <td>2009.000000</td>\n",
       "      <td>0.000000</td>\n",
       "      <td>81.000000</td>\n",
       "      <td>2.000000</td>\n",
       "      <td>744.000000</td>\n",
       "      <td>0.000000</td>\n",
       "      <td>19.990000</td>\n",
       "      <td>0.000000</td>\n",
       "      <td>36.000000</td>\n",
       "    </tr>\n",
       "    <tr>\n",
       "      <th>75%</th>\n",
       "      <td>2016.000000</td>\n",
       "      <td>2.000000</td>\n",
       "      <td>262.000000</td>\n",
       "      <td>3.000000</td>\n",
       "      <td>2828.500000</td>\n",
       "      <td>3.900000</td>\n",
       "      <td>49.990000</td>\n",
       "      <td>3.000000</td>\n",
       "      <td>92.000000</td>\n",
       "    </tr>\n",
       "    <tr>\n",
       "      <th>max</th>\n",
       "      <td>2023.000000</td>\n",
       "      <td>48.000000</td>\n",
       "      <td>11695.000000</td>\n",
       "      <td>80.000000</td>\n",
       "      <td>29429.000000</td>\n",
       "      <td>4.900000</td>\n",
       "      <td>849.990000</td>\n",
       "      <td>1063.000000</td>\n",
       "      <td>5499.990000</td>\n",
       "    </tr>\n",
       "  </tbody>\n",
       "</table>\n",
       "</div>"
      ],
      "text/plain": [
       "               Year  Num_Instructions        Pieces  Minifigures  \\\n",
       "count  14936.000000      14936.000000  13133.000000  7686.000000   \n",
       "mean    2006.750736          1.196036    237.935734     2.709862   \n",
       "std       11.524612          2.087763    473.090631     2.955427   \n",
       "min     1975.000000          0.000000      0.000000     1.000000   \n",
       "25%     2000.000000          0.000000     25.000000     1.000000   \n",
       "50%     2009.000000          0.000000     81.000000     2.000000   \n",
       "75%     2016.000000          2.000000    262.000000     3.000000   \n",
       "max     2023.000000         48.000000  11695.000000    80.000000   \n",
       "\n",
       "              Owned        Rating     USD_MSRP  Total_Quantity  Current_Price  \n",
       "count  14771.000000  14936.000000  5837.000000    12276.000000    5442.000000  \n",
       "mean    2045.236951      1.826627    39.967050        4.708618      90.164663  \n",
       "std     2972.330218      1.950909    55.006213       20.995961     193.452605  \n",
       "min        1.000000      0.000000     1.490000        0.000000       0.050000  \n",
       "25%       90.000000      0.000000     9.990000        0.000000      15.000000  \n",
       "50%      744.000000      0.000000    19.990000        0.000000      36.000000  \n",
       "75%     2828.500000      3.900000    49.990000        3.000000      92.000000  \n",
       "max    29429.000000      4.900000   849.990000     1063.000000    5499.990000  "
      ]
     },
     "execution_count": 75,
     "metadata": {},
     "output_type": "execute_result"
    }
   ],
   "source": [
    "df2.describe()\n"
   ]
  },
  {
   "cell_type": "code",
   "execution_count": 76,
   "id": "8e718373",
   "metadata": {},
   "outputs": [
    {
     "data": {
      "text/plain": [
       "Index(['Set_ID', 'Name', 'Year', 'Theme', 'Theme_Group', 'Subtheme',\n",
       "       'Category', 'Packaging', 'Num_Instructions', 'Availability', 'Pieces',\n",
       "       'Minifigures', 'Owned', 'Rating', 'USD_MSRP', 'Total_Quantity',\n",
       "       'Current_Price'],\n",
       "      dtype='object')"
      ]
     },
     "execution_count": 76,
     "metadata": {},
     "output_type": "execute_result"
    }
   ],
   "source": [
    "df2.columns"
   ]
  },
  {
   "cell_type": "code",
   "execution_count": null,
   "id": "56935e28",
   "metadata": {},
   "outputs": [],
   "source": [
    "# Drop irrelevant columns\n",
    "df2.drop(columns=['Packaging', 'Availability','Theme_Group','Subtheme','Category','Minifigures','Total_Quantity'])"
   ]
  }
 ],
 "metadata": {
  "kernelspec": {
   "display_name": ".venv",
   "language": "python",
   "name": "python3"
  },
  "language_info": {
   "codemirror_mode": {
    "name": "ipython",
    "version": 3
   },
   "file_extension": ".py",
   "mimetype": "text/x-python",
   "name": "python",
   "nbconvert_exporter": "python",
   "pygments_lexer": "ipython3",
   "version": "3.12.3"
  }
 },
 "nbformat": 4,
 "nbformat_minor": 5
}
